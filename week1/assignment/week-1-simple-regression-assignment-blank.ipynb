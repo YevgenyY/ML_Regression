{
 "cells": [
  {
   "cell_type": "markdown",
   "metadata": {},
   "source": [
    "# Regression Week 1: Simple Linear Regression"
   ]
  },
  {
   "cell_type": "markdown",
   "metadata": {},
   "source": [
    "In this notebook we will use data on house sales in King County to predict house prices using simple (one input) linear regression. You will:\n",
    "* Use graphlab SArray and SFrame functions to compute important summary statistics\n",
    "* Write a function to compute the Simple Linear Regression weights using the closed form solution\n",
    "* Write a function to make predictions of the output given the input feature\n",
    "* Turn the regression around to predict the input given the output\n",
    "* Compare two different models for predicting house prices\n",
    "\n",
    "In this notebook you will be provided with some already complete code as well as some code that you should complete yourself in order to answer quiz questions. The code we provide to complte is optional and is there to assist you with solving the problems but feel free to ignore the helper code and write your own."
   ]
  },
  {
   "cell_type": "markdown",
   "metadata": {},
   "source": [
    "# Fire up graphlab create"
   ]
  },
  {
   "cell_type": "code",
   "execution_count": 1,
   "metadata": {
    "collapsed": false
   },
   "outputs": [],
   "source": [
    "import graphlab"
   ]
  },
  {
   "cell_type": "markdown",
   "metadata": {},
   "source": [
    "# Load house sales data\n",
    "\n",
    "Dataset is from house sales in King County, the region where the city of Seattle, WA is located."
   ]
  },
  {
   "cell_type": "code",
   "execution_count": 3,
   "metadata": {
    "collapsed": false
   },
   "outputs": [
    {
     "data": {
      "text/html": [
       "<div style=\"max-height:1000px;max-width:1500px;overflow:auto;\"><table frame=\"box\" rules=\"cols\">\n",
       "    <tr>\n",
       "        <th style=\"padding-left: 1em; padding-right: 1em; text-align: center\">id</th>\n",
       "        <th style=\"padding-left: 1em; padding-right: 1em; text-align: center\">date</th>\n",
       "        <th style=\"padding-left: 1em; padding-right: 1em; text-align: center\">price</th>\n",
       "        <th style=\"padding-left: 1em; padding-right: 1em; text-align: center\">bedrooms</th>\n",
       "        <th style=\"padding-left: 1em; padding-right: 1em; text-align: center\">bathrooms</th>\n",
       "        <th style=\"padding-left: 1em; padding-right: 1em; text-align: center\">sqft_living</th>\n",
       "        <th style=\"padding-left: 1em; padding-right: 1em; text-align: center\">sqft_lot</th>\n",
       "        <th style=\"padding-left: 1em; padding-right: 1em; text-align: center\">floors</th>\n",
       "        <th style=\"padding-left: 1em; padding-right: 1em; text-align: center\">waterfront</th>\n",
       "    </tr>\n",
       "    <tr>\n",
       "        <td style=\"padding-left: 1em; padding-right: 1em; text-align: center; vertical-align: top\">7129300520</td>\n",
       "        <td style=\"padding-left: 1em; padding-right: 1em; text-align: center; vertical-align: top\">2014-10-13 00:00:00+00:00</td>\n",
       "        <td style=\"padding-left: 1em; padding-right: 1em; text-align: center; vertical-align: top\">221900.0</td>\n",
       "        <td style=\"padding-left: 1em; padding-right: 1em; text-align: center; vertical-align: top\">3.0</td>\n",
       "        <td style=\"padding-left: 1em; padding-right: 1em; text-align: center; vertical-align: top\">1.0</td>\n",
       "        <td style=\"padding-left: 1em; padding-right: 1em; text-align: center; vertical-align: top\">1180.0</td>\n",
       "        <td style=\"padding-left: 1em; padding-right: 1em; text-align: center; vertical-align: top\">5650</td>\n",
       "        <td style=\"padding-left: 1em; padding-right: 1em; text-align: center; vertical-align: top\">1</td>\n",
       "        <td style=\"padding-left: 1em; padding-right: 1em; text-align: center; vertical-align: top\">0</td>\n",
       "    </tr>\n",
       "    <tr>\n",
       "        <td style=\"padding-left: 1em; padding-right: 1em; text-align: center; vertical-align: top\">6414100192</td>\n",
       "        <td style=\"padding-left: 1em; padding-right: 1em; text-align: center; vertical-align: top\">2014-12-09 00:00:00+00:00</td>\n",
       "        <td style=\"padding-left: 1em; padding-right: 1em; text-align: center; vertical-align: top\">538000.0</td>\n",
       "        <td style=\"padding-left: 1em; padding-right: 1em; text-align: center; vertical-align: top\">3.0</td>\n",
       "        <td style=\"padding-left: 1em; padding-right: 1em; text-align: center; vertical-align: top\">2.25</td>\n",
       "        <td style=\"padding-left: 1em; padding-right: 1em; text-align: center; vertical-align: top\">2570.0</td>\n",
       "        <td style=\"padding-left: 1em; padding-right: 1em; text-align: center; vertical-align: top\">7242</td>\n",
       "        <td style=\"padding-left: 1em; padding-right: 1em; text-align: center; vertical-align: top\">2</td>\n",
       "        <td style=\"padding-left: 1em; padding-right: 1em; text-align: center; vertical-align: top\">0</td>\n",
       "    </tr>\n",
       "    <tr>\n",
       "        <td style=\"padding-left: 1em; padding-right: 1em; text-align: center; vertical-align: top\">5631500400</td>\n",
       "        <td style=\"padding-left: 1em; padding-right: 1em; text-align: center; vertical-align: top\">2015-02-25 00:00:00+00:00</td>\n",
       "        <td style=\"padding-left: 1em; padding-right: 1em; text-align: center; vertical-align: top\">180000.0</td>\n",
       "        <td style=\"padding-left: 1em; padding-right: 1em; text-align: center; vertical-align: top\">2.0</td>\n",
       "        <td style=\"padding-left: 1em; padding-right: 1em; text-align: center; vertical-align: top\">1.0</td>\n",
       "        <td style=\"padding-left: 1em; padding-right: 1em; text-align: center; vertical-align: top\">770.0</td>\n",
       "        <td style=\"padding-left: 1em; padding-right: 1em; text-align: center; vertical-align: top\">10000</td>\n",
       "        <td style=\"padding-left: 1em; padding-right: 1em; text-align: center; vertical-align: top\">1</td>\n",
       "        <td style=\"padding-left: 1em; padding-right: 1em; text-align: center; vertical-align: top\">0</td>\n",
       "    </tr>\n",
       "    <tr>\n",
       "        <td style=\"padding-left: 1em; padding-right: 1em; text-align: center; vertical-align: top\">2487200875</td>\n",
       "        <td style=\"padding-left: 1em; padding-right: 1em; text-align: center; vertical-align: top\">2014-12-09 00:00:00+00:00</td>\n",
       "        <td style=\"padding-left: 1em; padding-right: 1em; text-align: center; vertical-align: top\">604000.0</td>\n",
       "        <td style=\"padding-left: 1em; padding-right: 1em; text-align: center; vertical-align: top\">4.0</td>\n",
       "        <td style=\"padding-left: 1em; padding-right: 1em; text-align: center; vertical-align: top\">3.0</td>\n",
       "        <td style=\"padding-left: 1em; padding-right: 1em; text-align: center; vertical-align: top\">1960.0</td>\n",
       "        <td style=\"padding-left: 1em; padding-right: 1em; text-align: center; vertical-align: top\">5000</td>\n",
       "        <td style=\"padding-left: 1em; padding-right: 1em; text-align: center; vertical-align: top\">1</td>\n",
       "        <td style=\"padding-left: 1em; padding-right: 1em; text-align: center; vertical-align: top\">0</td>\n",
       "    </tr>\n",
       "    <tr>\n",
       "        <td style=\"padding-left: 1em; padding-right: 1em; text-align: center; vertical-align: top\">1954400510</td>\n",
       "        <td style=\"padding-left: 1em; padding-right: 1em; text-align: center; vertical-align: top\">2015-02-18 00:00:00+00:00</td>\n",
       "        <td style=\"padding-left: 1em; padding-right: 1em; text-align: center; vertical-align: top\">510000.0</td>\n",
       "        <td style=\"padding-left: 1em; padding-right: 1em; text-align: center; vertical-align: top\">3.0</td>\n",
       "        <td style=\"padding-left: 1em; padding-right: 1em; text-align: center; vertical-align: top\">2.0</td>\n",
       "        <td style=\"padding-left: 1em; padding-right: 1em; text-align: center; vertical-align: top\">1680.0</td>\n",
       "        <td style=\"padding-left: 1em; padding-right: 1em; text-align: center; vertical-align: top\">8080</td>\n",
       "        <td style=\"padding-left: 1em; padding-right: 1em; text-align: center; vertical-align: top\">1</td>\n",
       "        <td style=\"padding-left: 1em; padding-right: 1em; text-align: center; vertical-align: top\">0</td>\n",
       "    </tr>\n",
       "    <tr>\n",
       "        <td style=\"padding-left: 1em; padding-right: 1em; text-align: center; vertical-align: top\">7237550310</td>\n",
       "        <td style=\"padding-left: 1em; padding-right: 1em; text-align: center; vertical-align: top\">2014-05-12 00:00:00+00:00</td>\n",
       "        <td style=\"padding-left: 1em; padding-right: 1em; text-align: center; vertical-align: top\">1225000.0</td>\n",
       "        <td style=\"padding-left: 1em; padding-right: 1em; text-align: center; vertical-align: top\">4.0</td>\n",
       "        <td style=\"padding-left: 1em; padding-right: 1em; text-align: center; vertical-align: top\">4.5</td>\n",
       "        <td style=\"padding-left: 1em; padding-right: 1em; text-align: center; vertical-align: top\">5420.0</td>\n",
       "        <td style=\"padding-left: 1em; padding-right: 1em; text-align: center; vertical-align: top\">101930</td>\n",
       "        <td style=\"padding-left: 1em; padding-right: 1em; text-align: center; vertical-align: top\">1</td>\n",
       "        <td style=\"padding-left: 1em; padding-right: 1em; text-align: center; vertical-align: top\">0</td>\n",
       "    </tr>\n",
       "    <tr>\n",
       "        <td style=\"padding-left: 1em; padding-right: 1em; text-align: center; vertical-align: top\">1321400060</td>\n",
       "        <td style=\"padding-left: 1em; padding-right: 1em; text-align: center; vertical-align: top\">2014-06-27 00:00:00+00:00</td>\n",
       "        <td style=\"padding-left: 1em; padding-right: 1em; text-align: center; vertical-align: top\">257500.0</td>\n",
       "        <td style=\"padding-left: 1em; padding-right: 1em; text-align: center; vertical-align: top\">3.0</td>\n",
       "        <td style=\"padding-left: 1em; padding-right: 1em; text-align: center; vertical-align: top\">2.25</td>\n",
       "        <td style=\"padding-left: 1em; padding-right: 1em; text-align: center; vertical-align: top\">1715.0</td>\n",
       "        <td style=\"padding-left: 1em; padding-right: 1em; text-align: center; vertical-align: top\">6819</td>\n",
       "        <td style=\"padding-left: 1em; padding-right: 1em; text-align: center; vertical-align: top\">2</td>\n",
       "        <td style=\"padding-left: 1em; padding-right: 1em; text-align: center; vertical-align: top\">0</td>\n",
       "    </tr>\n",
       "    <tr>\n",
       "        <td style=\"padding-left: 1em; padding-right: 1em; text-align: center; vertical-align: top\">2008000270</td>\n",
       "        <td style=\"padding-left: 1em; padding-right: 1em; text-align: center; vertical-align: top\">2015-01-15 00:00:00+00:00</td>\n",
       "        <td style=\"padding-left: 1em; padding-right: 1em; text-align: center; vertical-align: top\">291850.0</td>\n",
       "        <td style=\"padding-left: 1em; padding-right: 1em; text-align: center; vertical-align: top\">3.0</td>\n",
       "        <td style=\"padding-left: 1em; padding-right: 1em; text-align: center; vertical-align: top\">1.5</td>\n",
       "        <td style=\"padding-left: 1em; padding-right: 1em; text-align: center; vertical-align: top\">1060.0</td>\n",
       "        <td style=\"padding-left: 1em; padding-right: 1em; text-align: center; vertical-align: top\">9711</td>\n",
       "        <td style=\"padding-left: 1em; padding-right: 1em; text-align: center; vertical-align: top\">1</td>\n",
       "        <td style=\"padding-left: 1em; padding-right: 1em; text-align: center; vertical-align: top\">0</td>\n",
       "    </tr>\n",
       "    <tr>\n",
       "        <td style=\"padding-left: 1em; padding-right: 1em; text-align: center; vertical-align: top\">2414600126</td>\n",
       "        <td style=\"padding-left: 1em; padding-right: 1em; text-align: center; vertical-align: top\">2015-04-15 00:00:00+00:00</td>\n",
       "        <td style=\"padding-left: 1em; padding-right: 1em; text-align: center; vertical-align: top\">229500.0</td>\n",
       "        <td style=\"padding-left: 1em; padding-right: 1em; text-align: center; vertical-align: top\">3.0</td>\n",
       "        <td style=\"padding-left: 1em; padding-right: 1em; text-align: center; vertical-align: top\">1.0</td>\n",
       "        <td style=\"padding-left: 1em; padding-right: 1em; text-align: center; vertical-align: top\">1780.0</td>\n",
       "        <td style=\"padding-left: 1em; padding-right: 1em; text-align: center; vertical-align: top\">7470</td>\n",
       "        <td style=\"padding-left: 1em; padding-right: 1em; text-align: center; vertical-align: top\">1</td>\n",
       "        <td style=\"padding-left: 1em; padding-right: 1em; text-align: center; vertical-align: top\">0</td>\n",
       "    </tr>\n",
       "    <tr>\n",
       "        <td style=\"padding-left: 1em; padding-right: 1em; text-align: center; vertical-align: top\">3793500160</td>\n",
       "        <td style=\"padding-left: 1em; padding-right: 1em; text-align: center; vertical-align: top\">2015-03-12 00:00:00+00:00</td>\n",
       "        <td style=\"padding-left: 1em; padding-right: 1em; text-align: center; vertical-align: top\">323000.0</td>\n",
       "        <td style=\"padding-left: 1em; padding-right: 1em; text-align: center; vertical-align: top\">3.0</td>\n",
       "        <td style=\"padding-left: 1em; padding-right: 1em; text-align: center; vertical-align: top\">2.5</td>\n",
       "        <td style=\"padding-left: 1em; padding-right: 1em; text-align: center; vertical-align: top\">1890.0</td>\n",
       "        <td style=\"padding-left: 1em; padding-right: 1em; text-align: center; vertical-align: top\">6560</td>\n",
       "        <td style=\"padding-left: 1em; padding-right: 1em; text-align: center; vertical-align: top\">2</td>\n",
       "        <td style=\"padding-left: 1em; padding-right: 1em; text-align: center; vertical-align: top\">0</td>\n",
       "    </tr>\n",
       "</table>\n",
       "<table frame=\"box\" rules=\"cols\">\n",
       "    <tr>\n",
       "        <th style=\"padding-left: 1em; padding-right: 1em; text-align: center\">view</th>\n",
       "        <th style=\"padding-left: 1em; padding-right: 1em; text-align: center\">condition</th>\n",
       "        <th style=\"padding-left: 1em; padding-right: 1em; text-align: center\">grade</th>\n",
       "        <th style=\"padding-left: 1em; padding-right: 1em; text-align: center\">sqft_above</th>\n",
       "        <th style=\"padding-left: 1em; padding-right: 1em; text-align: center\">sqft_basement</th>\n",
       "        <th style=\"padding-left: 1em; padding-right: 1em; text-align: center\">yr_built</th>\n",
       "        <th style=\"padding-left: 1em; padding-right: 1em; text-align: center\">yr_renovated</th>\n",
       "        <th style=\"padding-left: 1em; padding-right: 1em; text-align: center\">zipcode</th>\n",
       "        <th style=\"padding-left: 1em; padding-right: 1em; text-align: center\">lat</th>\n",
       "    </tr>\n",
       "    <tr>\n",
       "        <td style=\"padding-left: 1em; padding-right: 1em; text-align: center; vertical-align: top\">0</td>\n",
       "        <td style=\"padding-left: 1em; padding-right: 1em; text-align: center; vertical-align: top\">3</td>\n",
       "        <td style=\"padding-left: 1em; padding-right: 1em; text-align: center; vertical-align: top\">7</td>\n",
       "        <td style=\"padding-left: 1em; padding-right: 1em; text-align: center; vertical-align: top\">1180</td>\n",
       "        <td style=\"padding-left: 1em; padding-right: 1em; text-align: center; vertical-align: top\">0</td>\n",
       "        <td style=\"padding-left: 1em; padding-right: 1em; text-align: center; vertical-align: top\">1955</td>\n",
       "        <td style=\"padding-left: 1em; padding-right: 1em; text-align: center; vertical-align: top\">0</td>\n",
       "        <td style=\"padding-left: 1em; padding-right: 1em; text-align: center; vertical-align: top\">98178</td>\n",
       "        <td style=\"padding-left: 1em; padding-right: 1em; text-align: center; vertical-align: top\">47.51123398</td>\n",
       "    </tr>\n",
       "    <tr>\n",
       "        <td style=\"padding-left: 1em; padding-right: 1em; text-align: center; vertical-align: top\">0</td>\n",
       "        <td style=\"padding-left: 1em; padding-right: 1em; text-align: center; vertical-align: top\">3</td>\n",
       "        <td style=\"padding-left: 1em; padding-right: 1em; text-align: center; vertical-align: top\">7</td>\n",
       "        <td style=\"padding-left: 1em; padding-right: 1em; text-align: center; vertical-align: top\">2170</td>\n",
       "        <td style=\"padding-left: 1em; padding-right: 1em; text-align: center; vertical-align: top\">400</td>\n",
       "        <td style=\"padding-left: 1em; padding-right: 1em; text-align: center; vertical-align: top\">1951</td>\n",
       "        <td style=\"padding-left: 1em; padding-right: 1em; text-align: center; vertical-align: top\">1991</td>\n",
       "        <td style=\"padding-left: 1em; padding-right: 1em; text-align: center; vertical-align: top\">98125</td>\n",
       "        <td style=\"padding-left: 1em; padding-right: 1em; text-align: center; vertical-align: top\">47.72102274</td>\n",
       "    </tr>\n",
       "    <tr>\n",
       "        <td style=\"padding-left: 1em; padding-right: 1em; text-align: center; vertical-align: top\">0</td>\n",
       "        <td style=\"padding-left: 1em; padding-right: 1em; text-align: center; vertical-align: top\">3</td>\n",
       "        <td style=\"padding-left: 1em; padding-right: 1em; text-align: center; vertical-align: top\">6</td>\n",
       "        <td style=\"padding-left: 1em; padding-right: 1em; text-align: center; vertical-align: top\">770</td>\n",
       "        <td style=\"padding-left: 1em; padding-right: 1em; text-align: center; vertical-align: top\">0</td>\n",
       "        <td style=\"padding-left: 1em; padding-right: 1em; text-align: center; vertical-align: top\">1933</td>\n",
       "        <td style=\"padding-left: 1em; padding-right: 1em; text-align: center; vertical-align: top\">0</td>\n",
       "        <td style=\"padding-left: 1em; padding-right: 1em; text-align: center; vertical-align: top\">98028</td>\n",
       "        <td style=\"padding-left: 1em; padding-right: 1em; text-align: center; vertical-align: top\">47.73792661</td>\n",
       "    </tr>\n",
       "    <tr>\n",
       "        <td style=\"padding-left: 1em; padding-right: 1em; text-align: center; vertical-align: top\">0</td>\n",
       "        <td style=\"padding-left: 1em; padding-right: 1em; text-align: center; vertical-align: top\">5</td>\n",
       "        <td style=\"padding-left: 1em; padding-right: 1em; text-align: center; vertical-align: top\">7</td>\n",
       "        <td style=\"padding-left: 1em; padding-right: 1em; text-align: center; vertical-align: top\">1050</td>\n",
       "        <td style=\"padding-left: 1em; padding-right: 1em; text-align: center; vertical-align: top\">910</td>\n",
       "        <td style=\"padding-left: 1em; padding-right: 1em; text-align: center; vertical-align: top\">1965</td>\n",
       "        <td style=\"padding-left: 1em; padding-right: 1em; text-align: center; vertical-align: top\">0</td>\n",
       "        <td style=\"padding-left: 1em; padding-right: 1em; text-align: center; vertical-align: top\">98136</td>\n",
       "        <td style=\"padding-left: 1em; padding-right: 1em; text-align: center; vertical-align: top\">47.52082</td>\n",
       "    </tr>\n",
       "    <tr>\n",
       "        <td style=\"padding-left: 1em; padding-right: 1em; text-align: center; vertical-align: top\">0</td>\n",
       "        <td style=\"padding-left: 1em; padding-right: 1em; text-align: center; vertical-align: top\">3</td>\n",
       "        <td style=\"padding-left: 1em; padding-right: 1em; text-align: center; vertical-align: top\">8</td>\n",
       "        <td style=\"padding-left: 1em; padding-right: 1em; text-align: center; vertical-align: top\">1680</td>\n",
       "        <td style=\"padding-left: 1em; padding-right: 1em; text-align: center; vertical-align: top\">0</td>\n",
       "        <td style=\"padding-left: 1em; padding-right: 1em; text-align: center; vertical-align: top\">1987</td>\n",
       "        <td style=\"padding-left: 1em; padding-right: 1em; text-align: center; vertical-align: top\">0</td>\n",
       "        <td style=\"padding-left: 1em; padding-right: 1em; text-align: center; vertical-align: top\">98074</td>\n",
       "        <td style=\"padding-left: 1em; padding-right: 1em; text-align: center; vertical-align: top\">47.61681228</td>\n",
       "    </tr>\n",
       "    <tr>\n",
       "        <td style=\"padding-left: 1em; padding-right: 1em; text-align: center; vertical-align: top\">0</td>\n",
       "        <td style=\"padding-left: 1em; padding-right: 1em; text-align: center; vertical-align: top\">3</td>\n",
       "        <td style=\"padding-left: 1em; padding-right: 1em; text-align: center; vertical-align: top\">11</td>\n",
       "        <td style=\"padding-left: 1em; padding-right: 1em; text-align: center; vertical-align: top\">3890</td>\n",
       "        <td style=\"padding-left: 1em; padding-right: 1em; text-align: center; vertical-align: top\">1530</td>\n",
       "        <td style=\"padding-left: 1em; padding-right: 1em; text-align: center; vertical-align: top\">2001</td>\n",
       "        <td style=\"padding-left: 1em; padding-right: 1em; text-align: center; vertical-align: top\">0</td>\n",
       "        <td style=\"padding-left: 1em; padding-right: 1em; text-align: center; vertical-align: top\">98053</td>\n",
       "        <td style=\"padding-left: 1em; padding-right: 1em; text-align: center; vertical-align: top\">47.65611835</td>\n",
       "    </tr>\n",
       "    <tr>\n",
       "        <td style=\"padding-left: 1em; padding-right: 1em; text-align: center; vertical-align: top\">0</td>\n",
       "        <td style=\"padding-left: 1em; padding-right: 1em; text-align: center; vertical-align: top\">3</td>\n",
       "        <td style=\"padding-left: 1em; padding-right: 1em; text-align: center; vertical-align: top\">7</td>\n",
       "        <td style=\"padding-left: 1em; padding-right: 1em; text-align: center; vertical-align: top\">1715</td>\n",
       "        <td style=\"padding-left: 1em; padding-right: 1em; text-align: center; vertical-align: top\">0</td>\n",
       "        <td style=\"padding-left: 1em; padding-right: 1em; text-align: center; vertical-align: top\">1995</td>\n",
       "        <td style=\"padding-left: 1em; padding-right: 1em; text-align: center; vertical-align: top\">0</td>\n",
       "        <td style=\"padding-left: 1em; padding-right: 1em; text-align: center; vertical-align: top\">98003</td>\n",
       "        <td style=\"padding-left: 1em; padding-right: 1em; text-align: center; vertical-align: top\">47.30972002</td>\n",
       "    </tr>\n",
       "    <tr>\n",
       "        <td style=\"padding-left: 1em; padding-right: 1em; text-align: center; vertical-align: top\">0</td>\n",
       "        <td style=\"padding-left: 1em; padding-right: 1em; text-align: center; vertical-align: top\">3</td>\n",
       "        <td style=\"padding-left: 1em; padding-right: 1em; text-align: center; vertical-align: top\">7</td>\n",
       "        <td style=\"padding-left: 1em; padding-right: 1em; text-align: center; vertical-align: top\">1060</td>\n",
       "        <td style=\"padding-left: 1em; padding-right: 1em; text-align: center; vertical-align: top\">0</td>\n",
       "        <td style=\"padding-left: 1em; padding-right: 1em; text-align: center; vertical-align: top\">1963</td>\n",
       "        <td style=\"padding-left: 1em; padding-right: 1em; text-align: center; vertical-align: top\">0</td>\n",
       "        <td style=\"padding-left: 1em; padding-right: 1em; text-align: center; vertical-align: top\">98198</td>\n",
       "        <td style=\"padding-left: 1em; padding-right: 1em; text-align: center; vertical-align: top\">47.40949984</td>\n",
       "    </tr>\n",
       "    <tr>\n",
       "        <td style=\"padding-left: 1em; padding-right: 1em; text-align: center; vertical-align: top\">0</td>\n",
       "        <td style=\"padding-left: 1em; padding-right: 1em; text-align: center; vertical-align: top\">3</td>\n",
       "        <td style=\"padding-left: 1em; padding-right: 1em; text-align: center; vertical-align: top\">7</td>\n",
       "        <td style=\"padding-left: 1em; padding-right: 1em; text-align: center; vertical-align: top\">1050</td>\n",
       "        <td style=\"padding-left: 1em; padding-right: 1em; text-align: center; vertical-align: top\">730</td>\n",
       "        <td style=\"padding-left: 1em; padding-right: 1em; text-align: center; vertical-align: top\">1960</td>\n",
       "        <td style=\"padding-left: 1em; padding-right: 1em; text-align: center; vertical-align: top\">0</td>\n",
       "        <td style=\"padding-left: 1em; padding-right: 1em; text-align: center; vertical-align: top\">98146</td>\n",
       "        <td style=\"padding-left: 1em; padding-right: 1em; text-align: center; vertical-align: top\">47.51229381</td>\n",
       "    </tr>\n",
       "    <tr>\n",
       "        <td style=\"padding-left: 1em; padding-right: 1em; text-align: center; vertical-align: top\">0</td>\n",
       "        <td style=\"padding-left: 1em; padding-right: 1em; text-align: center; vertical-align: top\">3</td>\n",
       "        <td style=\"padding-left: 1em; padding-right: 1em; text-align: center; vertical-align: top\">7</td>\n",
       "        <td style=\"padding-left: 1em; padding-right: 1em; text-align: center; vertical-align: top\">1890</td>\n",
       "        <td style=\"padding-left: 1em; padding-right: 1em; text-align: center; vertical-align: top\">0</td>\n",
       "        <td style=\"padding-left: 1em; padding-right: 1em; text-align: center; vertical-align: top\">2003</td>\n",
       "        <td style=\"padding-left: 1em; padding-right: 1em; text-align: center; vertical-align: top\">0</td>\n",
       "        <td style=\"padding-left: 1em; padding-right: 1em; text-align: center; vertical-align: top\">98038</td>\n",
       "        <td style=\"padding-left: 1em; padding-right: 1em; text-align: center; vertical-align: top\">47.36840673</td>\n",
       "    </tr>\n",
       "</table>\n",
       "<table frame=\"box\" rules=\"cols\">\n",
       "    <tr>\n",
       "        <th style=\"padding-left: 1em; padding-right: 1em; text-align: center\">long</th>\n",
       "        <th style=\"padding-left: 1em; padding-right: 1em; text-align: center\">sqft_living15</th>\n",
       "        <th style=\"padding-left: 1em; padding-right: 1em; text-align: center\">sqft_lot15</th>\n",
       "    </tr>\n",
       "    <tr>\n",
       "        <td style=\"padding-left: 1em; padding-right: 1em; text-align: center; vertical-align: top\">-122.25677536</td>\n",
       "        <td style=\"padding-left: 1em; padding-right: 1em; text-align: center; vertical-align: top\">1340.0</td>\n",
       "        <td style=\"padding-left: 1em; padding-right: 1em; text-align: center; vertical-align: top\">5650.0</td>\n",
       "    </tr>\n",
       "    <tr>\n",
       "        <td style=\"padding-left: 1em; padding-right: 1em; text-align: center; vertical-align: top\">-122.3188624</td>\n",
       "        <td style=\"padding-left: 1em; padding-right: 1em; text-align: center; vertical-align: top\">1690.0</td>\n",
       "        <td style=\"padding-left: 1em; padding-right: 1em; text-align: center; vertical-align: top\">7639.0</td>\n",
       "    </tr>\n",
       "    <tr>\n",
       "        <td style=\"padding-left: 1em; padding-right: 1em; text-align: center; vertical-align: top\">-122.23319601</td>\n",
       "        <td style=\"padding-left: 1em; padding-right: 1em; text-align: center; vertical-align: top\">2720.0</td>\n",
       "        <td style=\"padding-left: 1em; padding-right: 1em; text-align: center; vertical-align: top\">8062.0</td>\n",
       "    </tr>\n",
       "    <tr>\n",
       "        <td style=\"padding-left: 1em; padding-right: 1em; text-align: center; vertical-align: top\">-122.39318505</td>\n",
       "        <td style=\"padding-left: 1em; padding-right: 1em; text-align: center; vertical-align: top\">1360.0</td>\n",
       "        <td style=\"padding-left: 1em; padding-right: 1em; text-align: center; vertical-align: top\">5000.0</td>\n",
       "    </tr>\n",
       "    <tr>\n",
       "        <td style=\"padding-left: 1em; padding-right: 1em; text-align: center; vertical-align: top\">-122.04490059</td>\n",
       "        <td style=\"padding-left: 1em; padding-right: 1em; text-align: center; vertical-align: top\">1800.0</td>\n",
       "        <td style=\"padding-left: 1em; padding-right: 1em; text-align: center; vertical-align: top\">7503.0</td>\n",
       "    </tr>\n",
       "    <tr>\n",
       "        <td style=\"padding-left: 1em; padding-right: 1em; text-align: center; vertical-align: top\">-122.00528655</td>\n",
       "        <td style=\"padding-left: 1em; padding-right: 1em; text-align: center; vertical-align: top\">4760.0</td>\n",
       "        <td style=\"padding-left: 1em; padding-right: 1em; text-align: center; vertical-align: top\">101930.0</td>\n",
       "    </tr>\n",
       "    <tr>\n",
       "        <td style=\"padding-left: 1em; padding-right: 1em; text-align: center; vertical-align: top\">-122.32704857</td>\n",
       "        <td style=\"padding-left: 1em; padding-right: 1em; text-align: center; vertical-align: top\">2238.0</td>\n",
       "        <td style=\"padding-left: 1em; padding-right: 1em; text-align: center; vertical-align: top\">6819.0</td>\n",
       "    </tr>\n",
       "    <tr>\n",
       "        <td style=\"padding-left: 1em; padding-right: 1em; text-align: center; vertical-align: top\">-122.31457273</td>\n",
       "        <td style=\"padding-left: 1em; padding-right: 1em; text-align: center; vertical-align: top\">1650.0</td>\n",
       "        <td style=\"padding-left: 1em; padding-right: 1em; text-align: center; vertical-align: top\">9711.0</td>\n",
       "    </tr>\n",
       "    <tr>\n",
       "        <td style=\"padding-left: 1em; padding-right: 1em; text-align: center; vertical-align: top\">-122.33659507</td>\n",
       "        <td style=\"padding-left: 1em; padding-right: 1em; text-align: center; vertical-align: top\">1780.0</td>\n",
       "        <td style=\"padding-left: 1em; padding-right: 1em; text-align: center; vertical-align: top\">8113.0</td>\n",
       "    </tr>\n",
       "    <tr>\n",
       "        <td style=\"padding-left: 1em; padding-right: 1em; text-align: center; vertical-align: top\">-122.0308176</td>\n",
       "        <td style=\"padding-left: 1em; padding-right: 1em; text-align: center; vertical-align: top\">2390.0</td>\n",
       "        <td style=\"padding-left: 1em; padding-right: 1em; text-align: center; vertical-align: top\">7570.0</td>\n",
       "    </tr>\n",
       "</table>\n",
       "[10 rows x 21 columns]<br/>\n",
       "</div>"
      ],
      "text/plain": [
       "Columns:\n",
       "\tid\tstr\n",
       "\tdate\tdatetime\n",
       "\tprice\tfloat\n",
       "\tbedrooms\tfloat\n",
       "\tbathrooms\tfloat\n",
       "\tsqft_living\tfloat\n",
       "\tsqft_lot\tint\n",
       "\tfloors\tstr\n",
       "\twaterfront\tint\n",
       "\tview\tint\n",
       "\tcondition\tint\n",
       "\tgrade\tint\n",
       "\tsqft_above\tint\n",
       "\tsqft_basement\tint\n",
       "\tyr_built\tint\n",
       "\tyr_renovated\tint\n",
       "\tzipcode\tstr\n",
       "\tlat\tfloat\n",
       "\tlong\tfloat\n",
       "\tsqft_living15\tfloat\n",
       "\tsqft_lot15\tfloat\n",
       "\n",
       "Rows: 10\n",
       "\n",
       "Data:\n",
       "+------------+---------------------------+-----------+----------+-----------+\n",
       "|     id     |            date           |   price   | bedrooms | bathrooms |\n",
       "+------------+---------------------------+-----------+----------+-----------+\n",
       "| 7129300520 | 2014-10-13 00:00:00+00:00 |  221900.0 |   3.0    |    1.0    |\n",
       "| 6414100192 | 2014-12-09 00:00:00+00:00 |  538000.0 |   3.0    |    2.25   |\n",
       "| 5631500400 | 2015-02-25 00:00:00+00:00 |  180000.0 |   2.0    |    1.0    |\n",
       "| 2487200875 | 2014-12-09 00:00:00+00:00 |  604000.0 |   4.0    |    3.0    |\n",
       "| 1954400510 | 2015-02-18 00:00:00+00:00 |  510000.0 |   3.0    |    2.0    |\n",
       "| 7237550310 | 2014-05-12 00:00:00+00:00 | 1225000.0 |   4.0    |    4.5    |\n",
       "| 1321400060 | 2014-06-27 00:00:00+00:00 |  257500.0 |   3.0    |    2.25   |\n",
       "| 2008000270 | 2015-01-15 00:00:00+00:00 |  291850.0 |   3.0    |    1.5    |\n",
       "| 2414600126 | 2015-04-15 00:00:00+00:00 |  229500.0 |   3.0    |    1.0    |\n",
       "| 3793500160 | 2015-03-12 00:00:00+00:00 |  323000.0 |   3.0    |    2.5    |\n",
       "+------------+---------------------------+-----------+----------+-----------+\n",
       "+-------------+----------+--------+------------+------+-----------+-------+------------+\n",
       "| sqft_living | sqft_lot | floors | waterfront | view | condition | grade | sqft_above |\n",
       "+-------------+----------+--------+------------+------+-----------+-------+------------+\n",
       "|    1180.0   |   5650   |   1    |     0      |  0   |     3     |   7   |    1180    |\n",
       "|    2570.0   |   7242   |   2    |     0      |  0   |     3     |   7   |    2170    |\n",
       "|    770.0    |  10000   |   1    |     0      |  0   |     3     |   6   |    770     |\n",
       "|    1960.0   |   5000   |   1    |     0      |  0   |     5     |   7   |    1050    |\n",
       "|    1680.0   |   8080   |   1    |     0      |  0   |     3     |   8   |    1680    |\n",
       "|    5420.0   |  101930  |   1    |     0      |  0   |     3     |   11  |    3890    |\n",
       "|    1715.0   |   6819   |   2    |     0      |  0   |     3     |   7   |    1715    |\n",
       "|    1060.0   |   9711   |   1    |     0      |  0   |     3     |   7   |    1060    |\n",
       "|    1780.0   |   7470   |   1    |     0      |  0   |     3     |   7   |    1050    |\n",
       "|    1890.0   |   6560   |   2    |     0      |  0   |     3     |   7   |    1890    |\n",
       "+-------------+----------+--------+------------+------+-----------+-------+------------+\n",
       "+---------------+----------+--------------+---------+-------------+\n",
       "| sqft_basement | yr_built | yr_renovated | zipcode |     lat     |\n",
       "+---------------+----------+--------------+---------+-------------+\n",
       "|       0       |   1955   |      0       |  98178  | 47.51123398 |\n",
       "|      400      |   1951   |     1991     |  98125  | 47.72102274 |\n",
       "|       0       |   1933   |      0       |  98028  | 47.73792661 |\n",
       "|      910      |   1965   |      0       |  98136  |   47.52082  |\n",
       "|       0       |   1987   |      0       |  98074  | 47.61681228 |\n",
       "|      1530     |   2001   |      0       |  98053  | 47.65611835 |\n",
       "|       0       |   1995   |      0       |  98003  | 47.30972002 |\n",
       "|       0       |   1963   |      0       |  98198  | 47.40949984 |\n",
       "|      730      |   1960   |      0       |  98146  | 47.51229381 |\n",
       "|       0       |   2003   |      0       |  98038  | 47.36840673 |\n",
       "+---------------+----------+--------------+---------+-------------+\n",
       "+---------------+---------------+-----+\n",
       "|      long     | sqft_living15 | ... |\n",
       "+---------------+---------------+-----+\n",
       "| -122.25677536 |     1340.0    | ... |\n",
       "|  -122.3188624 |     1690.0    | ... |\n",
       "| -122.23319601 |     2720.0    | ... |\n",
       "| -122.39318505 |     1360.0    | ... |\n",
       "| -122.04490059 |     1800.0    | ... |\n",
       "| -122.00528655 |     4760.0    | ... |\n",
       "| -122.32704857 |     2238.0    | ... |\n",
       "| -122.31457273 |     1650.0    | ... |\n",
       "| -122.33659507 |     1780.0    | ... |\n",
       "|  -122.0308176 |     2390.0    | ... |\n",
       "+---------------+---------------+-----+\n",
       "[10 rows x 21 columns]"
      ]
     },
     "execution_count": 3,
     "metadata": {},
     "output_type": "execute_result"
    }
   ],
   "source": [
    "sales = graphlab.SFrame('kc_house_data.gl/')\n",
    "sales.head()"
   ]
  },
  {
   "cell_type": "markdown",
   "metadata": {},
   "source": [
    "# Split data into training and testing"
   ]
  },
  {
   "cell_type": "markdown",
   "metadata": {},
   "source": [
    "We use seed=0 so that everyone running this notebook gets the same results.  In practice, you may set a random seed (or let GraphLab Create pick a random seed for you).  "
   ]
  },
  {
   "cell_type": "code",
   "execution_count": 4,
   "metadata": {
    "collapsed": false
   },
   "outputs": [],
   "source": [
    "train_data,test_data = sales.random_split(.8,seed=0)"
   ]
  },
  {
   "cell_type": "markdown",
   "metadata": {},
   "source": [
    "# Useful SFrame summary functions"
   ]
  },
  {
   "cell_type": "markdown",
   "metadata": {},
   "source": [
    "In order to make use of the closed form solution as well as take advantage of graphlab's built in functions we will review some important ones. In particular:\n",
    "* Computing the sum of an SArray\n",
    "* Computing the arithmetic average (mean) of an SArray\n",
    "* multiplying SArrays by constants\n",
    "* multiplying SArrays by other SArrays"
   ]
  },
  {
   "cell_type": "code",
   "execution_count": 5,
   "metadata": {
    "collapsed": false
   },
   "outputs": [
    {
     "name": "stdout",
     "output_type": "stream",
     "text": [
      "average price via method 1: 540088.141905\n",
      "average price via method 2: 540088.141905\n"
     ]
    }
   ],
   "source": [
    "# Let's compute the mean of the House Prices in King County in 2 different ways.\n",
    "prices = sales['price'] # extract the price column of the sales SFrame -- this is now an SArray\n",
    "\n",
    "# recall that the arithmetic average (the mean) is the sum of the prices divided by the total number of houses:\n",
    "sum_prices = prices.sum()\n",
    "num_houses = prices.size() # when prices is an SArray .size() returns its length\n",
    "avg_price_1 = sum_prices/num_houses\n",
    "avg_price_2 = prices.mean() # if you just want the average, the .mean() function\n",
    "print \"average price via method 1: \" + str(avg_price_1)\n",
    "print \"average price via method 2: \" + str(avg_price_2)"
   ]
  },
  {
   "cell_type": "markdown",
   "metadata": {},
   "source": [
    "As we see we get the same answer both ways"
   ]
  },
  {
   "cell_type": "code",
   "execution_count": 6,
   "metadata": {
    "collapsed": false
   },
   "outputs": [
    {
     "name": "stdout",
     "output_type": "stream",
     "text": [
      "the sum of price squared is: 9.21732513355e+15\n"
     ]
    }
   ],
   "source": [
    "# if we want to multiply every price by 0.5 it's a simple as:\n",
    "half_prices = 0.5*prices\n",
    "# Let's compute the sum of squares of price. We can multiply two SArrays of the same length elementwise also with *\n",
    "prices_squared = prices*prices\n",
    "sum_prices_squared = prices_squared.sum() # price_squared is an SArray of the squares and we want to add them up.\n",
    "print \"the sum of price squared is: \" + str(sum_prices_squared)"
   ]
  },
  {
   "cell_type": "markdown",
   "metadata": {},
   "source": [
    "Aside: The python notation x.xxe+yy means x.xx \\* 10^(yy). e.g 100 = 10^2 = 1*10^2 = 1e2 "
   ]
  },
  {
   "cell_type": "markdown",
   "metadata": {},
   "source": [
    "# Build a generic simple linear regression function "
   ]
  },
  {
   "cell_type": "markdown",
   "metadata": {},
   "source": [
    "Armed with these SArray functions we can use the closed form solution found from lecture to compute the slope and intercept for a simple linear regression on observations stored as SArrays: input_feature, output.\n",
    "\n",
    "Complete the following function (or write your own) to compute the simple linear regression slope and intercept:"
   ]
  },
  {
   "cell_type": "code",
   "execution_count": 17,
   "metadata": {
    "collapsed": false
   },
   "outputs": [],
   "source": [
    "def simple_linear_regression(input_feature, output):\n",
    "    # compute the sum of input_feature and output\n",
    "    sumX = input_feature.sum()\n",
    "    sumY = output.sum()\n",
    "    N = output.size()\n",
    "    \n",
    "    # compute the product of the output and the input_feature and its sum\n",
    "    tmp = input_feature * output\n",
    "    sumXY = tmp.sum()\n",
    "        \n",
    "    # compute the squared value of the input_feature and its sum\n",
    "    tmp = input_feature * input_feature\n",
    "    sumX2 = tmp.sum()\n",
    "        \n",
    "    # use the formula for the slope\n",
    "    slope = (sumXY - (sumY*sumX)/N) / (sumX2 - (sumX*sumX)/N)\n",
    "    \n",
    "    # use the formula for the intercept\n",
    "    intercept = sumY/N - slope*(sumX/N)\n",
    "    \n",
    "    return (intercept, slope)\n",
    "\n"
   ]
  },
  {
   "cell_type": "markdown",
   "metadata": {},
   "source": [
    "We can test that our function works by passing it something where we know the answer. In particular we can generate a feature and then put the output exactly on a line: output = 1 + 1\\*input_feature then we know both our slope and intercept should be 1"
   ]
  },
  {
   "cell_type": "code",
   "execution_count": 18,
   "metadata": {
    "collapsed": false,
    "scrolled": true
   },
   "outputs": [
    {
     "name": "stdout",
     "output_type": "stream",
     "text": [
      "Intercept: 1\n",
      "Slope: 1\n"
     ]
    }
   ],
   "source": [
    "test_feature = graphlab.SArray(range(5))\n",
    "test_output = graphlab.SArray(1 + 1*test_feature)\n",
    "(test_intercept, test_slope) =  simple_linear_regression(test_feature, test_output)\n",
    "print \"Intercept: \" + str(test_intercept)\n",
    "print \"Slope: \" + str(test_slope)"
   ]
  },
  {
   "cell_type": "markdown",
   "metadata": {},
   "source": [
    "Now that we know it works let's build a regression model for predicting price based on sqft_living. Rembember that we train on train_data!"
   ]
  },
  {
   "cell_type": "code",
   "execution_count": 19,
   "metadata": {
    "collapsed": false
   },
   "outputs": [
    {
     "name": "stdout",
     "output_type": "stream",
     "text": [
      "Intercept: -47116.0765749\n",
      "Slope: 281.958838568\n"
     ]
    }
   ],
   "source": [
    "sqft_intercept, sqft_slope = simple_linear_regression(train_data['sqft_living'], train_data['price'])\n",
    "\n",
    "print \"Intercept: \" + str(sqft_intercept)\n",
    "print \"Slope: \" + str(sqft_slope)"
   ]
  },
  {
   "cell_type": "markdown",
   "metadata": {},
   "source": [
    "# Predicting Values"
   ]
  },
  {
   "cell_type": "markdown",
   "metadata": {},
   "source": [
    "Now that we have the model parameters: intercept & slope we can make predictions. Using SArrays it's easy to multiply an SArray by a constant and add a constant value. Complete the following function to return the predicted output given the input_feature, slope and intercept:"
   ]
  },
  {
   "cell_type": "code",
   "execution_count": 20,
   "metadata": {
    "collapsed": false
   },
   "outputs": [],
   "source": [
    "def get_regression_predictions(input_feature, intercept, slope):\n",
    "    # calculate the predicted values:\n",
    "    predicted_values = intercept + slope*input_feature\n",
    "    \n",
    "    return predicted_values"
   ]
  },
  {
   "cell_type": "markdown",
   "metadata": {},
   "source": [
    "Now that we can calculate a prediction given the slope and intercept let's make a prediction. Use (or alter) the following to find out the estimated price for a house with 2650 squarefeet according to the squarefeet model we estiamted above.\n",
    "\n",
    "**Quiz Question: Using your Slope and Intercept from (4), What is the predicted price for a house with 2650 sqft?**"
   ]
  },
  {
   "cell_type": "code",
   "execution_count": 21,
   "metadata": {
    "collapsed": false
   },
   "outputs": [
    {
     "name": "stdout",
     "output_type": "stream",
     "text": [
      "The estimated price for a house with 2650 squarefeet is $700074.85\n"
     ]
    }
   ],
   "source": [
    "my_house_sqft = 2650\n",
    "estimated_price = get_regression_predictions(my_house_sqft, sqft_intercept, sqft_slope)\n",
    "print \"The estimated price for a house with %d squarefeet is $%.2f\" % (my_house_sqft, estimated_price)"
   ]
  },
  {
   "cell_type": "markdown",
   "metadata": {},
   "source": [
    "# Residual Sum of Squares"
   ]
  },
  {
   "cell_type": "markdown",
   "metadata": {},
   "source": [
    "Now that we have a model and can make predictions let's evaluate our model using Residual Sum of Squares (RSS). Recall that RSS is the sum of the squares of the residuals and the residuals is just a fancy word for the difference between the predicted output and the true output. \n",
    "\n",
    "Complete the following (or write your own) function to compute the RSS of a simple linear regression model given the input_feature, output, intercept and slope:"
   ]
  },
  {
   "cell_type": "code",
   "execution_count": 22,
   "metadata": {
    "collapsed": true
   },
   "outputs": [],
   "source": [
    "def get_residual_sum_of_squares(input_feature, output, intercept, slope):\n",
    "    # First get the predictions\n",
    "    predicted_values = intercept + slope*input_feature\n",
    "\n",
    "    # then compute the residuals (since we are squaring it doesn't matter which order you subtract)\n",
    "    residuals = output - predicted_values\n",
    "\n",
    "    # square the residuals and add them up\n",
    "    rss = residuals*residuals\n",
    "    RSS = rss.sum()\n",
    "\n",
    "    return(RSS)"
   ]
  },
  {
   "cell_type": "markdown",
   "metadata": {},
   "source": [
    "Let's test our get_residual_sum_of_squares function by applying it to the test model where the data lie exactly on a line. Since they lie exactly on a line the residual sum of squares should be zero!"
   ]
  },
  {
   "cell_type": "code",
   "execution_count": 23,
   "metadata": {
    "collapsed": false
   },
   "outputs": [
    {
     "name": "stdout",
     "output_type": "stream",
     "text": [
      "0\n"
     ]
    }
   ],
   "source": [
    "print get_residual_sum_of_squares(test_feature, test_output, test_intercept, test_slope) # should be 0.0"
   ]
  },
  {
   "cell_type": "markdown",
   "metadata": {},
   "source": [
    "Now use your function to calculate the RSS on training data from the squarefeet model calculated above.\n",
    "\n",
    "**Quiz Question: According to this function and the slope and intercept from the squarefeet model What is the RSS for the simple linear regression using squarefeet to predict prices on TRAINING data?**"
   ]
  },
  {
   "cell_type": "code",
   "execution_count": 24,
   "metadata": {
    "collapsed": false
   },
   "outputs": [
    {
     "name": "stdout",
     "output_type": "stream",
     "text": [
      "The RSS of predicting Prices based on Square Feet is : 1.20191835632e+15\n"
     ]
    }
   ],
   "source": [
    "rss_prices_on_sqft = get_residual_sum_of_squares(train_data['sqft_living'], train_data['price'], sqft_intercept, sqft_slope)\n",
    "print 'The RSS of predicting Prices based on Square Feet is : ' + str(rss_prices_on_sqft)"
   ]
  },
  {
   "cell_type": "markdown",
   "metadata": {},
   "source": [
    "# Predict the squarefeet given price"
   ]
  },
  {
   "cell_type": "markdown",
   "metadata": {},
   "source": [
    "What if we want to predict the squarefoot given the price? Since we have an equation y = a + b\\*x we can solve the function for x. So that if we have the intercept (a) and the slope (b) and the price (y) we can solve for the estimated squarefeet (x).\n",
    "\n",
    "Comlplete the following function to compute the inverse regression estimate, i.e. predict the input_feature given the output!"
   ]
  },
  {
   "cell_type": "code",
   "execution_count": 25,
   "metadata": {
    "collapsed": true
   },
   "outputs": [],
   "source": [
    "def inverse_regression_predictions(output, intercept, slope):\n",
    "    # solve output = intercept + slope*input_feature for input_feature. Use this equation to compute the inverse predictions:\n",
    "    estimated_feature = -(intercept/slope) + output/slope\n",
    "\n",
    "    return estimated_feature"
   ]
  },
  {
   "cell_type": "markdown",
   "metadata": {},
   "source": [
    "Now that we have a function to compute the squarefeet given the price from our simple regression model let's see how big we might expect a house that costs $800,000 to be.\n",
    "\n",
    "**Quiz Question: According to this function and the regression slope and intercept from (3) what is the estimated square-feet for a house costing $800,000?**"
   ]
  },
  {
   "cell_type": "code",
   "execution_count": 27,
   "metadata": {
    "collapsed": false
   },
   "outputs": [
    {
     "name": "stdout",
     "output_type": "stream",
     "text": [
      "The estimated squarefeet for a house worth $800000.00 is 3004\n"
     ]
    }
   ],
   "source": [
    "my_house_price = 800000\n",
    "estimated_squarefeet = inverse_regression_predictions(my_house_price, sqft_intercept, sqft_slope)\n",
    "print \"The estimated squarefeet for a house worth $%.2f is %d\" % (my_house_price, estimated_squarefeet)"
   ]
  },
  {
   "cell_type": "markdown",
   "metadata": {},
   "source": [
    "# New Model: estimate prices from bedrooms"
   ]
  },
  {
   "cell_type": "markdown",
   "metadata": {},
   "source": [
    "We have made one model for predicting house prices using squarefeet, but there are many other features in the sales SFrame. \n",
    "Use your simple linear regression function to estimate the regression parameters from predicting Prices based on number of bedrooms. Use the training data!"
   ]
  },
  {
   "cell_type": "code",
   "execution_count": 35,
   "metadata": {
    "collapsed": false
   },
   "outputs": [
    {
     "name": "stdout",
     "output_type": "stream",
     "text": [
      "Intercept: 109473.180469\n",
      "Slope: 127588.952175\n"
     ]
    },
    {
     "data": {
      "application/javascript": [
       "$(\"head\").append($(\"<link/>\").attr({\n",
       "  rel:  \"stylesheet\",\n",
       "  type: \"text/css\",\n",
       "  href: \"//cdnjs.cloudflare.com/ajax/libs/font-awesome/4.1.0/css/font-awesome.min.css\"\n",
       "}));\n",
       "$(\"head\").append($(\"<link/>\").attr({\n",
       "  rel:  \"stylesheet\",\n",
       "  type: \"text/css\",\n",
       "  href: \"https://static.turi.com/products/graphlab-create/2.1/canvas/css/canvas.css\"\n",
       "}));\n",
       "\n",
       "            (function(){\n",
       "\n",
       "                var e = null;\n",
       "                if (typeof element == 'undefined') {\n",
       "                    var scripts = document.getElementsByTagName('script');\n",
       "                    var thisScriptTag = scripts[scripts.length-1];\n",
       "                    var parentDiv = thisScriptTag.parentNode;\n",
       "                    e = document.createElement('div');\n",
       "                    parentDiv.appendChild(e);\n",
       "                } else {\n",
       "                    e = element[0];\n",
       "                }\n",
       "\n",
       "                if (typeof requirejs !== 'undefined') {\n",
       "                    // disable load timeout; ipython_app.js is large and can take a while to load.\n",
       "                    requirejs.config({waitSeconds: 0});\n",
       "                }\n",
       "\n",
       "                require(['https://static.turi.com/products/graphlab-create/2.1/canvas/js/ipython_app.js'], function(IPythonApp){\n",
       "                    var app = new IPythonApp();\n",
       "                    app.attachView('sframe','Plots', {\"selected_variable\": {\"name\": [\"train_data\"], \"descriptives\": {\"rows\": 17384, \"columns\": 21}, \"view_component\": \"Plots\", \"view_file\": \"sframe\", \"view_params\": {\"y\": \"price\", \"x\": \"bedrooms\", \"columns\": [\"id\", \"date\", \"price\", \"bedrooms\", \"bathrooms\", \"sqft_living\", \"sqft_lot\", \"floors\", \"waterfront\", \"view\", \"condition\", \"grade\", \"sqft_above\", \"sqft_basement\", \"yr_built\", \"yr_renovated\", \"zipcode\", \"lat\", \"long\", \"sqft_living15\", \"sqft_lot15\"], \"view\": \"Scatter Plot\"}, \"view_components\": [\"Summary\", \"Table\", \"Bar Chart\", \"BoxWhisker Plot\", \"Line Chart\", \"Scatter Plot\", \"Heat Map\", \"Plots\"], \"type\": \"SFrame\", \"columns\": [{\"dtype\": \"str\", \"name\": \"id\"}, {\"dtype\": \"datetime\", \"name\": \"date\"}, {\"dtype\": \"float\", \"name\": \"price\"}, {\"dtype\": \"float\", \"name\": \"bedrooms\"}, {\"dtype\": \"float\", \"name\": \"bathrooms\"}, {\"dtype\": \"float\", \"name\": \"sqft_living\"}, {\"dtype\": \"int\", \"name\": \"sqft_lot\"}, {\"dtype\": \"str\", \"name\": \"floors\"}, {\"dtype\": \"int\", \"name\": \"waterfront\"}, {\"dtype\": \"int\", \"name\": \"view\"}, {\"dtype\": \"int\", \"name\": \"condition\"}, {\"dtype\": \"int\", \"name\": \"grade\"}, {\"dtype\": \"int\", \"name\": \"sqft_above\"}, {\"dtype\": \"int\", \"name\": \"sqft_basement\"}, {\"dtype\": \"int\", \"name\": \"yr_built\"}, {\"dtype\": \"int\", \"name\": \"yr_renovated\"}, {\"dtype\": \"str\", \"name\": \"zipcode\"}, {\"dtype\": \"float\", \"name\": \"lat\"}, {\"dtype\": \"float\", \"name\": \"long\"}, {\"dtype\": \"float\", \"name\": \"sqft_living15\"}, {\"dtype\": \"float\", \"name\": \"sqft_lot15\"}], \"column_identifiers\": [\"bathrooms\", \"sqft_living15\", \"sqft_above\", \"grade\", \"yr_built\", \"price\", \"bedrooms\", \"zipcode\", \"long\", \"id\", \"sqft_lot15\", \"sqft_living\", \"floors\", \"sqft_lot\", \"date\", \"waterfront\", \"sqft_basement\", \"yr_renovated\", \"lat\", \"condition\", \"view\"]}, \"complete\": 1, \"ipython\": true, \"progress\": 1.0, \"data\": [[3.0, 460000.0], [3.0, 1150000.0], [4.0, 849000.0], [3.0, 203000.0], [3.0, 568000.0], [2.0, 380000.0], [3.0, 683000.0], [3.0, 675000.0], [3.0, 230000.0], [4.0, 765000.0], [4.0, 813500.0], [6.0, 550000.0], [3.0, 457500.0], [2.0, 750000.0], [3.0, 799000.0], [4.0, 344900.0], [4.0, 550000.0], [5.0, 834950.0], [6.0, 2140000.0], [3.0, 323000.0], [2.0, 355000.0], [3.0, 450000.0], [6.0, 680000.0], [4.0, 428900.0], [2.0, 545000.0], [4.0, 1345000.0], [3.0, 180000.0], [4.0, 845000.0], [3.0, 511555.0], [6.0, 880000.0], [3.0, 453000.0], [2.0, 212000.0], [3.0, 154500.0], [2.0, 385000.0], [2.0, 166000.0], [3.0, 605000.0], [3.0, 770000.0], [4.0, 335000.0], [4.0, 459000.0], [4.0, 329800.0], [4.0, 777000.0], [4.0, 440000.0], [4.0, 549900.0], [3.0, 580000.0], [4.0, 852880.0], [2.0, 139000.0], [3.0, 280000.0], [3.0, 627000.0], [4.0, 885000.0], [5.0, 352000.0], [5.0, 951000.0], [2.0, 695000.0], [2.0, 157500.0], [3.0, 350000.0], [4.0, 940000.0], [3.0, 425000.0], [3.0, 448500.0], [5.0, 561000.0], [3.0, 371025.0], [3.0, 360000.0], [6.0, 290000.0], [4.0, 580000.0], [4.0, 555000.0], [2.0, 329000.0], [3.0, 545000.0], [5.0, 435000.0], [4.0, 291375.0], [3.0, 327000.0], [3.0, 237950.0], [4.0, 1029000.0], [3.0, 225000.0], [4.0, 1197000.0], [3.0, 399950.0], [3.0, 700000.0], [4.0, 386000.0], [3.0, 400000.0], [4.0, 425000.0], [2.0, 460000.0], [4.0, 242550.0], [2.0, 360000.0], [4.0, 1200000.0], [5.0, 957000.0], [5.0, 1400000.0], [3.0, 225000.0], [3.0, 425000.0], [2.0, 535000.0], [3.0, 525000.0], [5.0, 265000.0], [4.0, 295000.0], [3.0, 450000.0], [5.0, 690500.0], [3.0, 838000.0], [3.0, 460000.0], [3.0, 305000.0], [3.0, 307635.0], [4.0, 359000.0], [3.0, 281000.0], [4.0, 517500.0], [3.0, 329950.0], [3.0, 449500.0], [4.0, 352000.0], [3.0, 198000.0], [3.0, 208000.0], [4.0, 748000.0], [4.0, 1575000.0], [3.0, 160000.0], [2.0, 380000.0], [4.0, 340000.0], [4.0, 885250.0], [4.0, 540000.0], [3.0, 450000.0], [5.0, 822500.0], [4.0, 430000.0], [4.0, 445800.0], [5.0, 1959000.0], [3.0, 784000.0], [2.0, 122000.0], [1.0, 229000.0], [3.0, 270000.0], [2.0, 577000.0], [2.0, 1046250.0], [2.0, 310000.0], [3.0, 735000.0], [3.0, 359950.0], [2.0, 307300.0], [2.0, 180000.0], [2.0, 350000.0], [4.0, 865000.0], [4.0, 305000.0], [4.0, 650000.0], [4.0, 380000.0], [4.0, 622950.0], [3.0, 225000.0], [3.0, 375000.0], [4.0, 482000.0], [3.0, 291600.0], [4.0, 260000.0], [4.0, 320000.0], [4.0, 417838.0], [2.0, 512000.0], [3.0, 325000.0], [4.0, 379000.0], [2.0, 420000.0], [4.0, 616000.0], [4.0, 595000.0], [4.0, 215000.0], [6.0, 620000.0], [2.0, 200000.0], [3.0, 575000.0], [4.0, 810000.0], [3.0, 554500.0], [4.0, 439000.0], [4.0, 589500.0], [3.0, 559950.0], [4.0, 715000.0], [3.0, 405000.0], [3.0, 220000.0], [4.0, 545000.0], [3.0, 490000.0], [3.0, 402000.0], [4.0, 470000.0], [5.0, 635000.0], [3.0, 166950.0], [3.0, 350000.0], [3.0, 731100.0], [3.0, 230000.0], [3.0, 354000.0], [2.0, 119900.0], [3.0, 770000.0], [3.0, 310000.0], [2.0, 275000.0], [3.0, 479000.0], [3.0, 410000.0], [3.0, 160000.0], [4.0, 265000.0], [2.0, 290000.0], [3.0, 387000.0], [4.0, 320000.0], [2.0, 549000.0], [4.0, 270000.0], [3.0, 225000.0], [3.0, 326995.0], [3.0, 332900.0], [4.0, 755000.0], [4.0, 397000.0], [8.0, 680000.0], [3.0, 649950.0], [3.0, 502000.0], [3.0, 275000.0], [4.0, 429900.0], [4.0, 640000.0], [3.0, 235000.0], [3.0, 496000.0], [3.0, 289950.0], [2.0, 255000.0], [5.0, 333000.0], [3.0, 290000.0], [3.0, 305000.0], [2.0, 299000.0], [4.0, 325000.0], [3.0, 503000.0], [3.0, 700000.0], [3.0, 601500.0], [3.0, 409950.0], [4.0, 335000.0], [3.0, 256000.0], [4.0, 401000.0], [5.0, 310000.0], [3.0, 234000.0], [2.0, 471000.0], [4.0, 360000.0], [3.0, 378000.0], [4.0, 769000.0], [3.0, 445000.0], [3.0, 545000.0], [4.0, 514500.0], [2.0, 615000.0], [4.0, 411000.0], [4.0, 320000.0], [4.0, 495000.0], [3.0, 780000.0], [3.0, 429900.0], [3.0, 215000.0], [4.0, 710000.0], [4.0, 412000.0], [2.0, 601450.0], [4.0, 395000.0], [4.0, 402000.0], [4.0, 575000.0], [4.0, 1260500.0], [3.0, 675000.0], [3.0, 577000.0], [3.0, 1250000.0], [4.0, 345000.0], [3.0, 330000.0], [4.0, 272000.0], [3.0, 405000.0], [4.0, 707500.0], [5.0, 430760.0], [1.0, 411000.0], [3.0, 430000.0], [2.0, 315000.0], [3.0, 375950.0], [3.0, 800000.0], [4.0, 225000.0], [2.0, 207100.0], [3.0, 325000.0], [4.0, 740000.0], [3.0, 201000.0], [3.0, 395000.0], [3.0, 875000.0], [3.0, 185000.0], [3.0, 450000.0], [3.0, 265500.0], [4.0, 328000.0], [4.0, 998000.0], [5.0, 389000.0], [3.0, 420000.0], [4.0, 950000.0], [3.0, 570000.0], [4.0, 427500.0], [3.0, 287000.0], [3.0, 235000.0], [3.0, 368000.0], [3.0, 191000.0], [3.0, 353900.0], [4.0, 271000.0], [4.0, 406000.0], [4.0, 319000.0], [5.0, 1295000.0], [4.0, 438800.0], [3.0, 343000.0], [3.0, 830200.0], [4.0, 325000.0], [4.0, 492500.0], [3.0, 350000.0], [2.0, 401000.0], [4.0, 500000.0], [3.0, 187000.0], [4.0, 495000.0], [2.0, 365000.0], [3.0, 266750.0], [3.0, 272500.0], [4.0, 387000.0], [3.0, 600000.0], [3.0, 279000.0], [4.0, 432500.0], [4.0, 1025000.0], [3.0, 322500.0], [4.0, 465000.0], [5.0, 2200000.0], [4.0, 425000.0], [4.0, 375000.0], [4.0, 1950000.0], [4.0, 518000.0], [3.0, 147500.0], [3.0, 485000.0], [3.0, 350000.0], [3.0, 290700.0], [3.0, 500000.0], [5.0, 3567000.0], [2.0, 239000.0], [1.0, 403500.0], [4.0, 775000.0], [3.0, 435000.0], [4.0, 200000.0], [3.0, 390000.0], [2.0, 488000.0], [3.0, 550000.0], [4.0, 601000.0], [3.0, 366000.0], [3.0, 732500.0], [2.0, 286000.0], [3.0, 499950.0], [3.0, 848000.0], [3.0, 251000.0], [4.0, 175000.0], [4.0, 535000.0], [3.0, 220000.0], [4.0, 404000.0], [3.0, 190000.0], [2.0, 325000.0], [2.0, 225500.0], [3.0, 284000.0], [4.0, 772000.0], [2.0, 500000.0], [3.0, 229000.0], [3.0, 257100.0], [2.0, 610000.0], [3.0, 699000.0], [3.0, 350000.0], [3.0, 160000.0], [3.0, 279000.0], [3.0, 625000.0], [3.0, 921000.0], [3.0, 253500.0], [3.0, 223000.0], [4.0, 1590000.0], [3.0, 310000.0], [5.0, 610000.0], [2.0, 427000.0], [3.0, 337900.0], [2.0, 285950.0], [3.0, 516000.0], [4.0, 635000.0], [3.0, 494815.0], [2.0, 582500.0], [3.0, 1755000.0], [4.0, 332500.0], [3.0, 675000.0], [5.0, 800000.0], [4.0, 550000.0], [5.0, 585000.0], [3.0, 555000.0], [6.0, 385000.0], [3.0, 1898000.0], [2.0, 187000.0], [4.0, 181100.0], [4.0, 750000.0], [5.0, 370000.0], [2.0, 570000.0], [4.0, 665000.0], [4.0, 618000.0], [3.0, 205000.0], [3.0, 536000.0], [4.0, 295000.0], [4.0, 511000.0], [3.0, 336000.0], [2.0, 367000.0], [2.0, 369900.0], [4.0, 1070000.0], [3.0, 234975.0], [4.0, 290000.0], [3.0, 525000.0], [2.0, 282500.0], [2.0, 506000.0], [4.0, 315000.0], [2.0, 191000.0], [4.0, 329000.0], [4.0, 396000.0], [3.0, 810000.0], [4.0, 355000.0], [4.0, 1218000.0], [2.0, 427500.0], [3.0, 375000.0], [3.0, 667500.0], [3.0, 810000.0], [2.0, 540000.0], [3.0, 242000.0], [3.0, 265000.0], [4.0, 248000.0], [3.0, 471000.0], [3.0, 390000.0], [3.0, 605000.0], [3.0, 785000.0], [3.0, 815000.0], [3.0, 600000.0], [3.0, 635000.0], [3.0, 280000.0], [5.0, 330000.0], [4.0, 2000000.0], [5.0, 280000.0], [4.0, 1075000.0], [3.0, 575000.0], [3.0, 283000.0], [2.0, 553000.0], [3.0, 887500.0], [3.0, 403000.0], [4.0, 854000.0], [3.0, 248000.0], [3.0, 555000.0], [2.0, 190000.0], [4.0, 1017000.0], [3.0, 580000.0], [2.0, 275000.0], [4.0, 667500.0], [3.0, 570000.0], [2.0, 345000.0], [3.0, 662000.0], [3.0, 270500.0], [4.0, 1210000.0], [3.0, 207000.0], [3.0, 441500.0], [2.0, 353250.0], [4.0, 240000.0], [3.0, 125000.0], [3.0, 448500.0], [3.0, 345000.0], [3.0, 210000.0], [3.0, 455000.0], [4.0, 1205000.0], [4.0, 1050000.0], [4.0, 1795000.0], [3.0, 220000.0], [4.0, 466000.0], [4.0, 525000.0], [3.0, 255000.0], [4.0, 665000.0], [1.0, 124000.0], [2.0, 585000.0], [6.0, 750000.0], [4.0, 1570000.0], [3.0, 344950.0], [4.0, 825000.0], [4.0, 565000.0], [3.0, 539000.0], [3.0, 419000.0], [4.0, 330000.0], [3.0, 420000.0], [3.0, 336600.0], [4.0, 542000.0], [4.0, 674600.0], [2.0, 707000.0], [3.0, 512500.0], [4.0, 570000.0], [2.0, 346500.0], [4.0, 689888.0], [3.0, 342000.0], [5.0, 765000.0], [3.0, 229000.0], [4.0, 550000.0], [3.0, 520000.0], [4.0, 269500.0], [5.0, 637850.0], [3.0, 370000.0], [4.0, 554820.0], [4.0, 353500.0], [4.0, 485000.0], [3.0, 771000.0], [4.0, 360000.0], [4.0, 277500.0], [6.0, 710000.0], [3.0, 380000.0], [3.0, 440000.0], [2.0, 190000.0], [4.0, 980000.0], [1.0, 244900.0], [3.0, 750000.0], [3.0, 526500.0], [2.0, 442000.0], [3.0, 555000.0], [3.0, 335500.0], [3.0, 249000.0], [3.0, 638000.0], [4.0, 395000.0], [4.0, 330000.0], [4.0, 702000.0], [3.0, 375000.0], [4.0, 1680000.0], [3.0, 640000.0], [5.0, 545000.0], [5.0, 500000.0], [2.0, 287000.0], [3.0, 418200.0], [3.0, 245000.0], [4.0, 162000.0], [3.0, 350000.0], [4.0, 630000.0], [3.0, 175000.0], [4.0, 550000.0], [3.0, 434900.0], [3.0, 396450.0], [2.0, 360000.0], [4.0, 536000.0], [3.0, 1140000.0], [3.0, 254000.0], [4.0, 284000.0], [2.0, 260000.0], [2.0, 539950.0], [4.0, 505000.0], [5.0, 517850.0], [3.0, 329780.0], [4.0, 632500.0], [3.0, 733000.0], [5.0, 358000.0], [4.0, 1900000.0], [2.0, 340000.0], [5.0, 347950.0], [3.0, 550000.0], [3.0, 3070000.0], [3.0, 475000.0], [3.0, 425000.0], [3.0, 260000.0], [3.0, 255500.0], [3.0, 295000.0], [3.0, 284000.0], [4.0, 840000.0], [4.0, 1050000.0], [3.0, 485000.0], [5.0, 199950.0], [3.0, 325000.0], [2.0, 308625.0], [5.0, 439900.0], [4.0, 958000.0], [3.0, 855000.0], [2.0, 352499.0], [4.0, 275000.0], [2.0, 462500.0], [3.0, 222000.0], [5.0, 513000.0], [3.0, 325000.0], [4.0, 330000.0], [4.0, 462000.0], [5.0, 802541.0], [3.0, 264500.0], [3.0, 260000.0], [3.0, 215000.0], [3.0, 303000.0], [4.0, 1500000.0], [3.0, 230000.0], [4.0, 421500.0], [3.0, 665000.0], [4.0, 576000.0], [3.0, 405000.0], [4.0, 491500.0], [3.0, 380000.0], [2.0, 270000.0], [5.0, 496000.0], [3.0, 620000.0], [4.0, 429000.0], [4.0, 575000.0], [3.0, 835000.0], [4.0, 500000.0], [3.0, 530000.0], [3.0, 435000.0], [2.0, 146000.0], [2.0, 519000.0], [5.0, 915000.0], [4.0, 250000.0], [2.0, 174500.0], [3.0, 267000.0], [3.0, 337000.0], [4.0, 275000.0], [3.0, 359000.0], [3.0, 567000.0], [3.0, 1800000.0], [2.0, 450000.0], [3.0, 194250.0], [2.0, 230500.0], [3.0, 605000.0], [3.0, 588000.0], [5.0, 545000.0], [3.0, 385000.0], [5.0, 754000.0], [4.0, 367500.0], [3.0, 305000.0], [2.0, 565000.0], [3.0, 234950.0], [4.0, 491500.0], [4.0, 599950.0], [4.0, 597500.0], [3.0, 562500.0], [2.0, 405000.0], [3.0, 300000.0], [4.0, 570000.0], [4.0, 750000.0], [3.0, 240000.0], [2.0, 370000.0], [4.0, 617950.0], [3.0, 729000.0], [3.0, 663000.0], [4.0, 215000.0], [3.0, 593777.0], [3.0, 260000.0], [4.0, 960000.0], [3.0, 1015000.0], [4.0, 850000.0], [4.0, 1220000.0], [3.0, 550000.0], [4.0, 1010000.0], [4.0, 589000.0], [4.0, 620000.0], [2.0, 895000.0], [2.0, 478000.0], [5.0, 345000.0], [3.0, 735000.0], [3.0, 588000.0], [3.0, 329932.0], [4.0, 780000.0], [4.0, 505000.0], [3.0, 408200.0], [4.0, 600000.0], [4.0, 525000.0], [3.0, 915000.0], [5.0, 600000.0], [4.0, 570000.0], [4.0, 737500.0], [2.0, 114975.0], [3.0, 525000.0], [3.0, 300000.0], [4.0, 341000.0], [3.0, 335000.0], [2.0, 299000.0], [3.0, 355000.0], [4.0, 339900.0], [3.0, 477500.0], [3.0, 297950.0], [4.0, 1090000.0], [3.0, 380000.0], [2.0, 193000.0], [4.0, 374950.0], [3.0, 355000.0], [4.0, 760000.0], [4.0, 330000.0], [4.0, 365500.0], [3.0, 375000.0], [3.0, 380000.0], [4.0, 323000.0], [4.0, 369000.0], [2.0, 550000.0], [3.0, 226000.0], [3.0, 268000.0], [6.0, 300000.0], [2.0, 82500.0], [3.0, 300000.0], [3.0, 220000.0], [3.0, 400000.0], [3.0, 552500.0], [3.0, 567500.0], [5.0, 650000.0], [4.0, 309950.0], [4.0, 510000.0], [4.0, 345000.0], [3.0, 230000.0], [3.0, 403000.0], [3.0, 525000.0], [3.0, 605500.0], [4.0, 562000.0], [4.0, 564500.0], [3.0, 500000.0], [3.0, 512000.0], [5.0, 849000.0], [2.0, 450000.0], [3.0, 620000.0], [2.0, 251000.0], [4.0, 638000.0], [2.0, 175000.0], [2.0, 269500.0], [4.0, 620000.0], [4.0, 435000.0], [3.0, 240000.0], [4.0, 500000.0], [4.0, 546800.0], [3.0, 255000.0], [3.0, 467500.0], [2.0, 365000.0], [2.0, 590000.0], [5.0, 289999.0], [3.0, 475300.0], [4.0, 840000.0], [3.0, 440500.0], [4.0, 505000.0], [5.0, 275000.0], [3.0, 490000.0], [2.0, 275000.0], [3.0, 367000.0], [4.0, 906000.0], [5.0, 392000.0], [4.0, 725000.0], [2.0, 631500.0], [4.0, 315000.0], [4.0, 482000.0], [4.0, 390000.0], [3.0, 490000.0], [1.0, 285000.0], [3.0, 630000.0], [5.0, 980000.0], [3.0, 485000.0], [4.0, 908990.0], [2.0, 550000.0], [3.0, 380000.0], [4.0, 471000.0], [2.0, 435000.0], [2.0, 275000.0], [3.0, 325000.0], [4.0, 915000.0], [3.0, 400000.0], [4.0, 1375000.0], [3.0, 700000.0], [3.0, 197500.0], [2.0, 235000.0], [3.0, 461000.0], [2.0, 319000.0], [3.0, 750000.0], [3.0, 645000.0], [4.0, 2600000.0], [3.0, 510000.0], [3.0, 950000.0], [3.0, 470000.0], [3.0, 432500.0], [4.0, 589000.0], [3.0, 330000.0], [2.0, 208400.0], [4.0, 1215000.0], [4.0, 895900.0], [5.0, 600000.0], [2.0, 359000.0], [3.0, 568000.0], [4.0, 1220000.0], [2.0, 290000.0], [4.0, 705000.0], [4.0, 305000.0], [3.0, 235000.0], [4.0, 665000.0], [3.0, 2400000.0], [4.0, 833000.0], [3.0, 418200.0], [3.0, 253000.0], [2.0, 420000.0], [4.0, 419000.0], [3.0, 1321500.0], [5.0, 1870000.0], [4.0, 575000.0], [4.0, 620000.0], [3.0, 739000.0], [3.0, 285000.0], [4.0, 575000.0], [3.0, 252500.0], [4.0, 602000.0], [3.0, 178000.0], [3.0, 420000.0], [2.0, 740000.0], [4.0, 820000.0], [3.0, 585000.0], [3.0, 297000.0], [3.0, 415000.0], [5.0, 614285.0], [2.0, 535000.0], [3.0, 617000.0], [4.0, 265000.0], [2.0, 280000.0], [4.0, 427500.0], [4.0, 520000.0], [4.0, 440000.0], [3.0, 585000.0], [4.0, 825000.0], [3.0, 275000.0], [5.0, 830000.0], [3.0, 3120000.0], [4.0, 763776.0], [3.0, 580000.0], [4.0, 689900.0], [2.0, 325000.0], [3.0, 680000.0], [4.0, 255000.0], [3.0, 1150000.0], [4.0, 571900.0], [4.0, 587000.0], [4.0, 845000.0], [2.0, 109000.0], [4.0, 585000.0], [3.0, 436000.0], [2.0, 490000.0], [3.0, 690000.0], [2.0, 245000.0], [2.0, 189950.0], [4.0, 2375000.0], [2.0, 179000.0], [4.0, 1100000.0], [4.0, 2575000.0], [2.0, 135000.0], [4.0, 625000.0], [3.0, 260000.0], [3.0, 229900.0], [2.0, 560000.0], [3.0, 270000.0], [1.0, 238000.0], [3.0, 795000.0], [5.0, 405000.0], [3.0, 700000.0], [2.0, 230000.0], [3.0, 459000.0], [4.0, 1135000.0], [2.0, 235000.0], [4.0, 375000.0], [3.0, 332000.0], [4.0, 291000.0], [3.0, 207000.0], [4.0, 745000.0], [3.0, 259000.0], [3.0, 370000.0], [4.0, 544000.0], [4.0, 900000.0], [3.0, 725000.0], [4.0, 710000.0], [3.0, 399900.0], [3.0, 585000.0], [4.0, 1050000.0], [5.0, 394000.0], [4.0, 380000.0], [3.0, 200000.0], [4.0, 1250000.0], [3.0, 512031.0], [3.0, 1028000.0], [4.0, 335900.0], [5.0, 450000.0], [3.0, 827500.0], [3.0, 435000.0], [3.0, 355000.0], [4.0, 475000.0], [4.0, 935000.0], [3.0, 220000.0], [2.0, 560000.0], [4.0, 375000.0], [2.0, 515000.0], [3.0, 366000.0], [2.0, 400000.0], [5.0, 410000.0], [5.0, 3300000.0], [4.0, 545000.0], [4.0, 505657.0], [3.0, 400000.0], [3.0, 450000.0], [3.0, 287600.0], [4.0, 620000.0], [3.0, 575700.0], [3.0, 540000.0], [2.0, 315000.0], [5.0, 579950.0], [3.0, 340000.0], [3.0, 640000.0], [4.0, 852000.0], [1.0, 250000.0], [2.0, 221900.0], [4.0, 325000.0], [4.0, 405000.0], [4.0, 272000.0], [4.0, 780000.0], [4.0, 666570.0], [2.0, 196700.0], [3.0, 521450.0], [4.0, 775000.0], [3.0, 549950.0], [3.0, 431000.0], [3.0, 599900.0], [4.0, 554729.0], [3.0, 467500.0], [4.0, 440000.0], [5.0, 515000.0], [3.0, 550000.0], [3.0, 515000.0], [4.0, 379950.0], [3.0, 250000.0], [6.0, 1750000.0], [2.0, 218000.0], [3.0, 1025000.0], [4.0, 285000.0], [3.0, 559000.0], [4.0, 552500.0], [4.0, 264950.0], [4.0, 323000.0], [5.0, 680000.0], [2.0, 405000.0], [3.0, 1010000.0], [4.0, 270000.0], [3.0, 720000.0], [4.0, 365650.0], [5.0, 395000.0], [3.0, 515000.0], [3.0, 506000.0], [3.0, 257200.0], [3.0, 460000.0], [2.0, 325000.0], [2.0, 970000.0], [3.0, 693000.0], [4.0, 664500.0], [4.0, 465000.0], [4.0, 402395.0], [3.0, 390000.0], [3.0, 252500.0], [4.0, 572000.0], [5.0, 540000.0], [2.0, 492000.0], [3.0, 500000.0], [3.0, 298900.0], [3.0, 410000.0], [3.0, 544900.0], [5.0, 632500.0], [4.0, 855000.0], [2.0, 389000.0], [4.0, 785000.0], [6.0, 435000.0], [3.0, 420000.0], [4.0, 476500.0], [3.0, 402000.0], [3.0, 230000.0], [5.0, 499950.0], [3.0, 665000.0], [3.0, 530000.0], [3.0, 302000.0], [3.0, 270000.0], [3.0, 280000.0], [4.0, 998000.0], [4.0, 185000.0], [4.0, 689000.0], [2.0, 212000.0], [3.0, 226000.0], [3.0, 700000.0], [3.0, 330000.0], [2.0, 168500.0], [2.0, 187000.0], [4.0, 671000.0], [3.0, 753000.0], [2.0, 549950.0], [4.0, 240000.0], [3.0, 245000.0], [3.0, 515000.0], [3.0, 585000.0], [4.0, 760000.0], [4.0, 500000.0], [4.0, 1070000.0], [3.0, 263000.0], [3.0, 254000.0], [3.0, 400000.0], [3.0, 433500.0], [4.0, 465000.0], [3.0, 272000.0], [3.0, 453500.0], [2.0, 179000.0], [3.0, 309950.0], [5.0, 2400000.0], [3.0, 256000.0], [8.0, 490000.0], [3.0, 425000.0], [3.0, 630000.0], [4.0, 284950.0], [2.0, 352500.0], [2.0, 313000.0], [3.0, 425000.0], [4.0, 585000.0], [3.0, 467000.0], [4.0, 350000.0], [2.0, 659000.0], [4.0, 900000.0], [3.0, 207500.0], [3.0, 843500.0], [3.0, 420000.0], [5.0, 415000.0], [3.0, 685000.0], [3.0, 489000.0], [3.0, 438000.0], [3.0, 363000.0], [3.0, 549000.0], [2.0, 240000.0], [3.0, 479000.0], [9.0, 934000.0], [4.0, 353000.0], [3.0, 305000.0], [4.0, 435000.0], [5.0, 399000.0], [3.0, 590000.0], [3.0, 408000.0], [3.0, 290000.0], [2.0, 264950.0], [5.0, 682000.0], [5.0, 425000.0], [2.0, 425000.0], [3.0, 455000.0], [3.0, 319502.0], [3.0, 743000.0]], \"columns\": [{\"dtype\": \"str\", \"name\": \"id\"}, {\"dtype\": \"datetime\", \"name\": \"date\"}, {\"dtype\": \"float\", \"name\": \"price\"}, {\"dtype\": \"float\", \"name\": \"bedrooms\"}, {\"dtype\": \"float\", \"name\": \"bathrooms\"}, {\"dtype\": \"float\", \"name\": \"sqft_living\"}, {\"dtype\": \"int\", \"name\": \"sqft_lot\"}, {\"dtype\": \"str\", \"name\": \"floors\"}, {\"dtype\": \"int\", \"name\": \"waterfront\"}, {\"dtype\": \"int\", \"name\": \"view\"}, {\"dtype\": \"int\", \"name\": \"condition\"}, {\"dtype\": \"int\", \"name\": \"grade\"}, {\"dtype\": \"int\", \"name\": \"sqft_above\"}, {\"dtype\": \"int\", \"name\": \"sqft_basement\"}, {\"dtype\": \"int\", \"name\": \"yr_built\"}, {\"dtype\": \"int\", \"name\": \"yr_renovated\"}, {\"dtype\": \"str\", \"name\": \"zipcode\"}, {\"dtype\": \"float\", \"name\": \"lat\"}, {\"dtype\": \"float\", \"name\": \"long\"}, {\"dtype\": \"float\", \"name\": \"sqft_living15\"}, {\"dtype\": \"float\", \"name\": \"sqft_lot15\"}]}, e);\n",
       "                });\n",
       "            })();\n",
       "        "
      ]
     },
     "metadata": {},
     "output_type": "display_data"
    }
   ],
   "source": [
    "# Estimate the slope and intercept for predicting 'price' based on 'bedrooms'\n",
    "bdrm_intercept, bdrm_slope = simple_linear_regression(train_data['bedrooms'], train_data['price'])\n",
    "\n",
    "print \"Intercept: \" + str(bdrm_intercept)\n",
    "print \"Slope: \" + str(bdrm_slope)\n",
    "graphlab.canvas.set_target('ipynb')\n",
    "train_data.show(view=\"Scatter Plot\", x=\"bedrooms\", y=\"price\")\n"
   ]
  },
  {
   "cell_type": "markdown",
   "metadata": {},
   "source": [
    "# Test your Linear Regression Algorithm"
   ]
  },
  {
   "cell_type": "markdown",
   "metadata": {},
   "source": [
    "Now we have two models for predicting the price of a house. How do we know which one is better? Calculate the RSS on the TEST data (remember this data wasn't involved in learning the model). Compute the RSS from predicting prices using bedrooms and from predicting prices using squarefeet.\n",
    "\n",
    "**Quiz Question: Which model (square feet or bedrooms) has lowest RSS on TEST data? Think about why this might be the case.**"
   ]
  },
  {
   "cell_type": "code",
   "execution_count": 38,
   "metadata": {
    "collapsed": false
   },
   "outputs": [
    {
     "name": "stdout",
     "output_type": "stream",
     "text": [
      "The RSS of predicting Prices based on Square Feet is : 4.93364582868e+14\n"
     ]
    }
   ],
   "source": [
    "# Compute RSS when using bedrooms on TEST data:\n",
    "rss_prices_on_bdrm = get_residual_sum_of_squares(test_data['bedrooms'], test_data['price'], bdrm_intercept, bdrm_slope)\n",
    "print 'The RSS of predicting Prices based on Square Feet is : ' + str(rss_prices_on_bdrm)\n"
   ]
  },
  {
   "cell_type": "code",
   "execution_count": 39,
   "metadata": {
    "collapsed": false
   },
   "outputs": [
    {
     "name": "stdout",
     "output_type": "stream",
     "text": [
      "The RSS of predicting Prices based on Square Feet is : 2.75402936247e+14\n"
     ]
    }
   ],
   "source": [
    "# Compute RSS when using squarefeet on TEST data:\n",
    "rss_prices_on_sqft = get_residual_sum_of_squares(test_data['sqft_living'], test_data['price'], sqft_intercept, sqft_slope)\n",
    "print 'The RSS of predicting Prices based on Square Feet is : ' + str(rss_prices_on_sqft)\n"
   ]
  },
  {
   "cell_type": "code",
   "execution_count": null,
   "metadata": {
    "collapsed": true
   },
   "outputs": [],
   "source": []
  }
 ],
 "metadata": {
  "kernelspec": {
   "display_name": "Python 2",
   "language": "python",
   "name": "python2"
  },
  "language_info": {
   "codemirror_mode": {
    "name": "ipython",
    "version": 2
   },
   "file_extension": ".py",
   "mimetype": "text/x-python",
   "name": "python",
   "nbconvert_exporter": "python",
   "pygments_lexer": "ipython2",
   "version": "2.7.12"
  }
 },
 "nbformat": 4,
 "nbformat_minor": 0
}
